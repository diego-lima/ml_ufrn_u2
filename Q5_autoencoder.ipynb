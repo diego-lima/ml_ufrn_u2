{
 "cells": [
  {
   "cell_type": "code",
   "execution_count": 73,
   "metadata": {},
   "outputs": [],
   "source": [
    "import numpy as np\n",
    "from datetime import datetime\n",
    "from tensorflow.keras.layers import Input, Dense\n",
    "from tensorflow.keras.models import Model\n",
    "from keras.callbacks import TensorBoard\n",
    "import keras\n",
    "import matplotlib.pyplot as plt\n",
    "\n",
    "np.set_printoptions(suppress=True) # tirar notação científica"
   ]
  },
  {
   "cell_type": "code",
   "execution_count": 33,
   "metadata": {},
   "outputs": [
    {
     "name": "stdout",
     "output_type": "stream",
     "text": [
      "Collecting keras\n",
      "  Downloading Keras-2.4.3-py2.py3-none-any.whl (36 kB)\n",
      "Requirement already satisfied: h5py in /home/diego/.virtualenvs/ia/lib/python3.8/site-packages (from keras) (2.10.0)\n",
      "Collecting pyyaml\n",
      "  Downloading PyYAML-5.3.1.tar.gz (269 kB)\n",
      "\u001b[K     |████████████████████████████████| 269 kB 524 kB/s eta 0:00:01\n",
      "\u001b[?25hRequirement already satisfied: scipy>=0.14 in /home/diego/.virtualenvs/ia/lib/python3.8/site-packages (from keras) (1.5.4)\n",
      "Requirement already satisfied: numpy>=1.9.1 in /home/diego/.virtualenvs/ia/lib/python3.8/site-packages (from keras) (1.18.5)\n",
      "Requirement already satisfied: six in /home/diego/.virtualenvs/ia/lib/python3.8/site-packages (from h5py->keras) (1.15.0)\n",
      "Building wheels for collected packages: pyyaml\n",
      "  Building wheel for pyyaml (setup.py) ... \u001b[?25ldone\n",
      "\u001b[?25h  Created wheel for pyyaml: filename=PyYAML-5.3.1-cp38-cp38-linux_x86_64.whl size=44619 sha256=d666fbadcff40264beb9f58c5627863f154f7e7f005341c3266ebadb92772f50\n",
      "  Stored in directory: /home/diego/.cache/pip/wheels/13/90/db/290ab3a34f2ef0b5a0f89235dc2d40fea83e77de84ed2dc05c\n",
      "Successfully built pyyaml\n",
      "Installing collected packages: pyyaml, keras\n",
      "Successfully installed keras-2.4.3 pyyaml-5.3.1\n"
     ]
    }
   ],
   "source": [
    "!pip install keras"
   ]
  },
  {
   "cell_type": "code",
   "execution_count": 29,
   "metadata": {},
   "outputs": [
    {
     "data": {
      "text/plain": [
       "array([[0.9192 , 0.4677 , 0.1714 , 0.0703 , 0.1052 ],\n",
       "       [0.7719 , 0.9291 , 0.3725 , 0.1238 , 0.0416 ],\n",
       "       [0.0654 , 0.4459 , 0.9397 , 0.3263 , 0.3686 ],\n",
       "       [0.4428 , 0.1433 , 0.1649 , 0.9601 , 0.4239 ],\n",
       "       [0.07772, 0.2053 , 0.255  , 0.5177 , 0.9272 ]])"
      ]
     },
     "execution_count": 29,
     "metadata": {},
     "output_type": "execute_result"
    }
   ],
   "source": [
    "dados = [\n",
    "    [.9192, .4677, .1714, .0703, .1052],\n",
    "    [.7719, .9291, .3725, .1238, .0416],\n",
    "    [.0654, .4459, .9397, .3263, .3686],\n",
    "    [.4428, .1433, .1649, .9601, .4239],\n",
    "    [.07772,.2053, .2550, .5177, .9272]\n",
    "]\n",
    "\n",
    "dados = np.array(dados)\n",
    "dados"
   ]
  },
  {
   "cell_type": "code",
   "execution_count": 30,
   "metadata": {},
   "outputs": [],
   "source": [
    "def razao_sn(real, aproximado):\n",
    "    numerador = np.sum(real ** 2)\n",
    "    denominador = np.sum(np.abs(real - aproximado) ** 2)\n",
    "    \n",
    "    return 10 * np.log10(numerador / denominador)"
   ]
  },
  {
   "cell_type": "code",
   "execution_count": 40,
   "metadata": {},
   "outputs": [],
   "source": [
    "# This is the size of our encoded representations\n",
    "encoding_dim = 3  # 32 floats -> compression of factor 24.5, assuming the input is 784 floats\n",
    "decoding_dim = 5\n",
    "\n",
    "# This is our input image\n",
    "input_img = Input(shape=(decoding_dim,))\n",
    "# \"encoded\" is the encoded representation of the input\n",
    "encoded = Dense(encoding_dim, activation='relu')(input_img)\n",
    "# \"decoded\" is the lossy reconstruction of the input\n",
    "decoded = Dense(decoding_dim, activation='sigmoid')(encoded)\n",
    "\n",
    "# This model maps an input to its reconstruction\n",
    "autoencoder = keras.Model(input_img, decoded)"
   ]
  },
  {
   "cell_type": "code",
   "execution_count": 48,
   "metadata": {},
   "outputs": [
    {
     "name": "stdout",
     "output_type": "stream",
     "text": [
      "Model: \"functional_3\"\n",
      "_________________________________________________________________\n",
      "Layer (type)                 Output Shape              Param #   \n",
      "=================================================================\n",
      "input_4 (InputLayer)         [(None, 5)]               0         \n",
      "_________________________________________________________________\n",
      "dense_6 (Dense)              (None, 3)                 18        \n",
      "_________________________________________________________________\n",
      "dense_7 (Dense)              (None, 5)                 20        \n",
      "=================================================================\n",
      "Total params: 38\n",
      "Trainable params: 38\n",
      "Non-trainable params: 0\n",
      "_________________________________________________________________\n"
     ]
    }
   ],
   "source": [
    "autoencoder.summary()"
   ]
  },
  {
   "cell_type": "code",
   "execution_count": 41,
   "metadata": {},
   "outputs": [],
   "source": [
    "# This model maps an input to its encoded representation\n",
    "encoder = Model(input_img, encoded)"
   ]
  },
  {
   "cell_type": "code",
   "execution_count": 42,
   "metadata": {},
   "outputs": [],
   "source": [
    "# This is our encoded (32-dimensional) input\n",
    "encoded_input = keras.Input(shape=(encoding_dim,))\n",
    "# Retrieve the last layer of the autoencoder model\n",
    "decoder_layer = autoencoder.layers[-1]\n",
    "# Create the decoder model\n",
    "decoder = keras.Model(encoded_input, decoder_layer(encoded_input))"
   ]
  },
  {
   "cell_type": "code",
   "execution_count": 57,
   "metadata": {},
   "outputs": [],
   "source": [
    "autoencoder.compile(optimizer='adam', loss='mean_squared_error')\n",
    "ratios = []\n",
    "\n",
    "epochs = 1000\n",
    "tensorboard_callback = TensorBoard(log_dir='/tmp/autoencoder')"
   ]
  },
  {
   "cell_type": "code",
   "execution_count": 86,
   "metadata": {},
   "outputs": [
    {
     "name": "stdout",
     "output_type": "stream",
     "text": [
      "0:06:38\n"
     ]
    }
   ],
   "source": [
    "start = datetime.now()\n",
    "for _ in range(epochs):\n",
    "    autoencoder.fit(dados, dados,\n",
    "                    epochs=1,\n",
    "                    shuffle=True,\n",
    "                    verbose=0,\n",
    "                   callbacks=[tensorboard_callback])\n",
    "    \n",
    "    dados_aproximados = autoencoder.predict(dados)\n",
    "    ratios.append(razao_sn(dados, dados_aproximados))\n",
    "duration = str(datetime.now() - start).split('.')[0]\n",
    "print(duration)"
   ]
  },
  {
   "cell_type": "code",
   "execution_count": 87,
   "metadata": {},
   "outputs": [
    {
     "data": {
      "text/plain": [
       "[<matplotlib.lines.Line2D at 0x7f4a83afe220>]"
      ]
     },
     "execution_count": 87,
     "metadata": {},
     "output_type": "execute_result"
    },
    {
     "data": {
      "image/png": "[encoded data removed]",
      "text/plain": [
       "<Figure size 432x288 with 1 Axes>"
      ]
     },
     "metadata": {
      "needs_background": "light"
     },
     "output_type": "display_data"
    }
   ],
   "source": [
    "plt.plot(ratios)"
   ]
  },
  {
   "cell_type": "code",
   "execution_count": 112,
   "metadata": {},
   "outputs": [
    {
     "data": {
      "text/plain": [
       "array([[0.9192 , 0.4677 , 0.1714 , 0.0703 , 0.1052 ],\n",
       "       [0.7719 , 0.9291 , 0.3725 , 0.1238 , 0.0416 ],\n",
       "       [0.0654 , 0.4459 , 0.9397 , 0.3263 , 0.3686 ],\n",
       "       [0.4428 , 0.1433 , 0.1649 , 0.9601 , 0.4239 ],\n",
       "       [0.07772, 0.2053 , 0.255  , 0.5177 , 0.9272 ]])"
      ]
     },
     "execution_count": 112,
     "metadata": {},
     "output_type": "execute_result"
    }
   ],
   "source": [
    "dados"
   ]
  },
  {
   "cell_type": "code",
   "execution_count": 111,
   "metadata": {},
   "outputs": [
    {
     "data": {
      "text/plain": [
       "array([[0.01294964, 0.04560119, 0.19856448, 0.0703    , 0.1052    ],\n",
       "       [0.22797197, 0.03692158, 0.06938469, 0.1238    , 0.0416    ],\n",
       "       [0.14420408, 0.18732104, 0.53143438, 0.00791767, 0.00040556],\n",
       "       [0.25844513, 0.10596364, 0.2450977 , 0.22554929, 0.25155897],\n",
       "       [0.10663487, 0.04396364, 0.1549977 , 0.21685071, 0.25174103]])"
      ]
     },
     "execution_count": 111,
     "metadata": {},
     "output_type": "execute_result"
    }
   ],
   "source": [
    "np.abs(dados - dados_aproximados)"
   ]
  },
  {
   "cell_type": "markdown",
   "metadata": {},
   "source": [
    "### segundo modelo"
   ]
  },
  {
   "cell_type": "code",
   "execution_count": 89,
   "metadata": {},
   "outputs": [
    {
     "name": "stdout",
     "output_type": "stream",
     "text": [
      "Model: \"functional_10\"\n",
      "_________________________________________________________________\n",
      "Layer (type)                 Output Shape              Param #   \n",
      "=================================================================\n",
      "input_7 (InputLayer)         [(None, 5)]               0         \n",
      "_________________________________________________________________\n",
      "dense_12 (Dense)             (None, 4)                 24        \n",
      "_________________________________________________________________\n",
      "dense_13 (Dense)             (None, 3)                 15        \n",
      "_________________________________________________________________\n",
      "dense_14 (Dense)             (None, 4)                 16        \n",
      "_________________________________________________________________\n",
      "dense_15 (Dense)             (None, 5)                 25        \n",
      "=================================================================\n",
      "Total params: 80\n",
      "Trainable params: 80\n",
      "Non-trainable params: 0\n",
      "_________________________________________________________________\n"
     ]
    }
   ],
   "source": [
    "# This is our input image\n",
    "input2 = Input(shape=(decoding_dim,))\n",
    "encoded2 = Dense(4, activation='relu')(input2)\n",
    "encoded2 = Dense(3, activation='relu')(encoded2)\n",
    "# \"decoded\" is the lossy reconstruction of the input\n",
    "decoded2 = Dense(4, activation='relu')(encoded2)\n",
    "decoded2 = Dense(decoding_dim, activation='sigmoid')(decoded2)\n",
    "\n",
    "# This model maps an input to its reconstruction\n",
    "autoencoder2 = keras.Model(input2, decoded2)\n",
    "autoencoder2.summary()"
   ]
  },
  {
   "cell_type": "code",
   "execution_count": 105,
   "metadata": {},
   "outputs": [],
   "source": [
    "autoencoder2.compile(optimizer='adam', loss='mean_squared_error')\n",
    "ratios2 = []\n",
    "\n",
    "epochs = 12000\n",
    "tensorboard_callback = TensorBoard(log_dir='/tmp/autoencoder')"
   ]
  },
  {
   "cell_type": "code",
   "execution_count": 106,
   "metadata": {},
   "outputs": [
    {
     "name": "stdout",
     "output_type": "stream",
     "text": [
      "0:19:52\n"
     ]
    }
   ],
   "source": [
    "start = datetime.now()\n",
    "for _ in range(epochs):\n",
    "    autoencoder2.fit(dados, dados,\n",
    "                    epochs=1,\n",
    "                    shuffle=True,\n",
    "                    verbose=0,\n",
    "                   callbacks=[tensorboard_callback])\n",
    "    \n",
    "    dados_aproximados2 = autoencoder2.predict(dados)\n",
    "    ratios2.append(razao_sn(dados, dados_aproximados2))\n",
    "duration = str(datetime.now() - start).split('.')[0]\n",
    "print(duration)"
   ]
  },
  {
   "cell_type": "code",
   "execution_count": 107,
   "metadata": {},
   "outputs": [
    {
     "data": {
      "text/plain": [
       "[<matplotlib.lines.Line2D at 0x7f4a8061cb80>]"
      ]
     },
     "execution_count": 107,
     "metadata": {},
     "output_type": "execute_result"
    },
    {
     "data": {
      "image/png": "[encoded data removed]",
      "text/plain": [
       "<Figure size 432x288 with 1 Axes>"
      ]
     },
     "metadata": {
      "needs_background": "light"
     },
     "output_type": "display_data"
    }
   ],
   "source": [
    "plt.plot(ratios2)"
   ]
  },
  {
   "cell_type": "code",
   "execution_count": 110,
   "metadata": {},
   "outputs": [
    {
     "data": {
      "text/plain": [
       "array([[0.00245827, 0.02887756, 0.20165564, 0.0703    , 0.1052    ],\n",
       "       [0.2280727 , 0.02690514, 0.07013309, 0.1238    , 0.0416    ],\n",
       "       [0.13239235, 0.18881739, 0.53131165, 0.0063627 , 0.0050144 ],\n",
       "       [0.24938352, 0.11232072, 0.24375102, 0.22156322, 0.25131095],\n",
       "       [0.11569648, 0.05032072, 0.15365102, 0.22083678, 0.25198905]])"
      ]
     },
     "execution_count": 110,
     "metadata": {},
     "output_type": "execute_result"
    }
   ],
   "source": [
    "np.abs(dados - dados_aproximados2)"
   ]
  }
 ],
 "metadata": {
  "kernelspec": {
   "display_name": "Python 3",
   "language": "python",
   "name": "python3"
  },
  "language_info": {
   "codemirror_mode": {
    "name": "ipython",
    "version": 3
   },
   "file_extension": ".py",
   "mimetype": "text/x-python",
   "name": "python",
   "nbconvert_exporter": "python",
   "pygments_lexer": "ipython3",
   "version": "3.8.5"
  }
 },
 "nbformat": 4,
 "nbformat_minor": 4
}
